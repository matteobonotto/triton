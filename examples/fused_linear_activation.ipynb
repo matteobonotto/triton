{
 "cells": [
  {
   "cell_type": "code",
   "execution_count": 3,
   "id": "685d7279",
   "metadata": {},
   "outputs": [],
   "source": [
    "import torch\n",
    "from torch import nn, Tensor\n",
    "from torch.autograd import gradcheck, Function"
   ]
  },
  {
   "cell_type": "code",
   "execution_count": null,
   "id": "d512cc44",
   "metadata": {},
   "outputs": [
    {
     "name": "stdout",
     "output_type": "stream",
     "text": [
      "True\n",
      "True\n"
     ]
    }
   ],
   "source": [
    "### this is the reference class, check the manually implememnted backward() against this one\n",
    "class FusedLinearActEager(nn.Module):\n",
    "    def __init__(self):\n",
    "        super().__init__()\n",
    "        self.linear = nn.Linear(128, 128)\n",
    "        self.act = nn.Tanh()\n",
    "\n",
    "    def forward(self, x:Tensor) -> Tensor:\n",
    "        return self.act(self.linear(x))\n",
    "\n",
    "class FusedLinearActCustomFunction(Function):\n",
    "    @staticmethod\n",
    "    def forward(ctx, W:Tensor, b:Tensor, x:Tensor):\n",
    "        z = x @ W.T + b\n",
    "        out = torch.nn.functional.tanh(z)\n",
    "        ctx.save_for_backward(out, x, W)\n",
    "        return out\n",
    "\n",
    "    @staticmethod\n",
    "    def backward(ctx, grad_output):\n",
    "        out, x, W = ctx.saved_tensors\n",
    "        dout_dz = 1 - out.pow(2)\n",
    "        \n",
    "        dz = grad_output * dout_dz  # apply chain rule\n",
    "\n",
    "        grad_x = dz @ W\n",
    "        grad_W = dz.T @ x\n",
    "        grad_b = dz.sum(dim=0)\n",
    "        # dout_dW = x * dout_dz\n",
    "        # dout_db = dout_dz\n",
    "        # dout_dx = dout_dz @ W.T\n",
    "        return grad_W, grad_b, grad_x\n",
    "\n",
    "class FusedLinearActCustomModule(nn.Module):\n",
    "    def __init__(self):\n",
    "        super().__init__()\n",
    "        self.linear = nn.Linear(128, 128)\n",
    "\n",
    "    def forward(self, x: Tensor) -> Tensor:\n",
    "        return FusedLinearActCustomFunction.apply(self.linear.weight, self.linear.bias, x)\n",
    "        \n",
    "\n",
    "# Assume input and targets\n",
    "x = torch.randn(4, 128, requires_grad=True)\n",
    "eager_model = FusedLinearActEager()\n",
    "custom_model = FusedLinearActCustomModule()  # Your version using custom autograd.Function\n",
    "\n",
    "# Copy weights\n",
    "custom_model.linear.weight.data.copy_(eager_model.linear.weight.data)\n",
    "custom_model.linear.bias.data.copy_(eager_model.linear.bias.data)\n",
    "\n",
    "\n",
    "# Copy weights\n",
    "assert torch.allclose(eager_model(x), custom_model(x), atol=1e-6)\n",
    "\n",
    "# Forward and backward\n",
    "out_eager = eager_model(x)\n",
    "loss_eager = out_eager.sum()\n",
    "loss_eager.backward()\n",
    "\n",
    "out_custom = custom_model(x)\n",
    "loss_custom = out_custom.sum()\n",
    "loss_custom.backward()\n",
    "...\n",
    "\n",
    "# Compare gradients\n",
    "print(torch.allclose(eager_model.linear.weight.grad, custom_model.linear.weight.grad, atol=1e-4))\n",
    "print(torch.allclose(x.grad, x.grad, atol=1e-4))"
   ]
  }
 ],
 "metadata": {
  "kernelspec": {
   "display_name": "venv",
   "language": "python",
   "name": "python3"
  },
  "language_info": {
   "codemirror_mode": {
    "name": "ipython",
    "version": 3
   },
   "file_extension": ".py",
   "mimetype": "text/x-python",
   "name": "python",
   "nbconvert_exporter": "python",
   "pygments_lexer": "ipython3",
   "version": "3.10.17"
  }
 },
 "nbformat": 4,
 "nbformat_minor": 5
}
