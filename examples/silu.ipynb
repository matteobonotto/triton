{
  "cells": [
    {
      "cell_type": "code",
      "execution_count": 46,
      "id": "YlFBDzu-LL6v",
      "metadata": {
        "id": "YlFBDzu-LL6v"
      },
      "outputs": [],
      "source": [
        "import torch\n",
        "from torch import Tensor, nn\n",
        "from math import ceil\n",
        "from torch.autograd import Function"
      ]
    },
    {
      "cell_type": "markdown",
      "id": "07fb2488",
      "metadata": {
        "id": "07fb2488"
      },
      "source": [
        "```math\n",
        "silu(x) = x * \\sigma(x) = \\frac{x}{1+e^{-x}}\n",
        "```"
      ]
    },
    {
      "cell_type": "code",
      "execution_count": 47,
      "id": "1987645d",
      "metadata": {
        "id": "1987645d"
      },
      "outputs": [],
      "source": [
        "def naive_silu(x:Tensor) -> Tensor:\n",
        "    sigma = 1 / (1 + torch.exp(-x))\n",
        "    return x * sigma"
      ]
    },
    {
      "cell_type": "code",
      "execution_count": 50,
      "id": "tNv4E9KJNOGd",
      "metadata": {
        "colab": {
          "base_uri": "https://localhost:8080/",
          "height": 842
        },
        "id": "tNv4E9KJNOGd",
        "outputId": "cf622ae4-7d6a-4e8d-a87a-47a1ab97f2d7"
      },
      "outputs": [
        {
          "output_type": "display_data",
          "data": {
            "text/plain": [
              "<Figure size 640x480 with 1 Axes>"
            ],
            "image/png": "[encoded data removed]"
          },
          "metadata": {}
        },
        {
          "output_type": "stream",
          "name": "stdout",
          "text": [
            "softmax-performance:\n",
            "          N      Triton       Torch  Naive SiLU\n",
            "0     256.0  206.597095  206.668604   34.918172\n",
            "1     896.0  225.045320  224.565124   35.431130\n",
            "2    1536.0  226.909022  226.889472   35.639564\n",
            "3    2176.0  228.794268  228.226674   35.975091\n",
            "4    2816.0  229.480798  229.547591   35.862299\n",
            "5    3456.0  229.766994  229.933198   35.860364\n",
            "6    4096.0  230.368548  231.112352   35.997187\n",
            "7    4736.0  230.378313  230.965915   35.989270\n",
            "8    5376.0  230.515463  231.011217   36.072011\n",
            "9    6016.0  231.282854  231.908133   36.010826\n",
            "10   6656.0  231.209762  231.708467   36.041513\n",
            "11   7296.0  231.269635  232.487000   31.484721\n",
            "12   7936.0  200.949258  227.629979   36.046631\n",
            "13   8576.0  231.434443  232.216609   36.343002\n",
            "14   9216.0  231.850907  232.737175   36.061229\n",
            "15   9856.0  231.694566  232.238653   36.073903\n",
            "16  10496.0  232.411446  233.222068   36.085023\n",
            "17  11136.0  232.004983  233.050356   36.074106\n",
            "18  11776.0  232.321687  233.191984   36.167405\n",
            "19  12416.0  232.149548  233.281717   36.077494\n"
          ]
        }
      ],
      "source": [
        "import triton\n",
        "import triton.language as tl\n",
        "\n",
        "DEVICE = torch.device('cuda')\n",
        "import math\n",
        "\n",
        "\n",
        "@triton.jit\n",
        "def silu_kernel_fwd(x_poiter, act_pointer, num_elements, block_size: tl.constexpr):\n",
        "\n",
        "    pid = tl.program_id(axis=0)\n",
        "    pointers = pid*block_size + tl.arange(0, block_size)\n",
        "    mask = pointers < num_elements\n",
        "\n",
        "    x = tl.load(x_poiter+pointers, mask)\n",
        "    # sigma = 1 / (1 + tl.exp(-x))\n",
        "    # chunk_res = x * sigma\n",
        "    chunk_res = x / (1 + tl.exp(-x))\n",
        "\n",
        "    tl.store(act_pointer+pointers, chunk_res, mask)\n",
        "    # tl.store(sigma_pointer+pointers, sigma, mask)\n",
        "\n",
        "\n",
        "def silu_triton_fwd(x:Tensor, block_size:int=1024) -> Tensor:\n",
        "\n",
        "    num_elements = x.numel()\n",
        "    grid = ceil(num_elements / block_size),\n",
        "\n",
        "    act = torch.empty_like(x).to(x.device)\n",
        "    # sigma = torch.empty_like(x).to(x.device)\n",
        "\n",
        "    silu_kernel_fwd[grid](x, act, num_elements, block_size)\n",
        "    return act#, sigma\n",
        "\n",
        "\n",
        "\n",
        "### performance\n",
        "x = torch.rand(100).to(DEVICE)\n",
        "triton.testing.assert_close(silu_triton_fwd(x), naive_silu(x))\n",
        "\n",
        "@triton.testing.perf_report(\n",
        "    triton.testing.Benchmark(\n",
        "        x_names=['N'],  # argument names to use as an x-axis for the plot\n",
        "        x_vals=[128 * i for i in range(2, 100, 5)],  # different possible values for `x_name`\n",
        "        line_arg='provider',  # argument name whose value corresponds to a different line in the plot\n",
        "        line_vals=['triton', 'torch', 'naive_silu'],  # possible values for `line_arg``\n",
        "        line_names=[\"Triton\", \"Torch\", \"Naive SiLU\"],  # label name for the lines\n",
        "        styles=[('blue', '-'), ('green', '-'), ('red', '-')],  # line styles\n",
        "        ylabel=\"GB/s\",  # label name for the y-axis\n",
        "        plot_name=\"softmax-performance\",  # name for the plot. Used also as a file name for saving the plot.\n",
        "        args={'M': 4096},  # values for function arguments not in `x_names` and `y_name`\n",
        "    ))\n",
        "def benchmark(M, N, provider):\n",
        "    x = torch.randn(M, N, device=DEVICE, dtype=torch.float32)\n",
        "    stream = getattr(torch, DEVICE.type).Stream()\n",
        "    getattr(torch, DEVICE.type).set_stream(stream)\n",
        "    if provider == 'torch':\n",
        "        ms = triton.testing.do_bench(lambda: torch.nn.functional.silu(x))\n",
        "    if provider == 'triton':\n",
        "        ms = triton.testing.do_bench(lambda: silu_triton_fwd(x))\n",
        "    if provider == 'naive_silu':\n",
        "        ms = triton.testing.do_bench(lambda: naive_silu(x))\n",
        "    gbps = lambda ms: 2 * x.numel() * x.element_size() * 1e-9 / (ms * 1e-3)\n",
        "    return gbps(ms)\n",
        "\n",
        "\n",
        "benchmark.run(show_plots=True, print_data=True)"
      ]
    },
    {
      "cell_type": "code",
      "execution_count": 51,
      "id": "dab69c20",
      "metadata": {
        "id": "dab69c20"
      },
      "outputs": [],
      "source": [
        "layer = nn.SiLU()\n",
        "\n",
        "class SiLUFunction(Function):\n",
        "    @staticmethod\n",
        "    def forward(ctx, x:Tensor) -> Tensor:\n",
        "        sigma = 1 / (1 + torch.exp(-x))\n",
        "        ctx.save_for_backward(x, sigma)\n",
        "        return x * sigma\n",
        "\n",
        "    @staticmethod\n",
        "    def backward(ctx, grad_output):\n",
        "        x, sigma,  = ctx.saved_tensors\n",
        "        return grad_output * sigma * (1 + x * (1 - sigma))\n",
        "\n",
        "class SiLUFunctionCustomModule(nn.Module):\n",
        "    def __init__(self):\n",
        "        super().__init__()\n",
        "\n",
        "    def forward(self, x: Tensor) -> Tensor:\n",
        "        in_shape = x.shape\n",
        "        return SiLUFunction.apply(x.view(x.numel())).view(in_shape)\n",
        "\n",
        "silu_custom = SiLUFunctionCustomModule()\n"
      ]
    },
    {
      "cell_type": "code",
      "execution_count": 52,
      "id": "4c4b0620",
      "metadata": {
        "id": "4c4b0620",
        "outputId": "d0e562b9-c024-42ca-ad04-4d0c8de649f9",
        "colab": {
          "base_uri": "https://localhost:8080/"
        }
      },
      "outputs": [
        {
          "output_type": "stream",
          "name": "stdout",
          "text": [
            "Gradient 0: max diff = 1.1920928955078125e-07\n",
            "Gradient 1: max diff = 5.960464477539063e-08\n",
            "Gradient 2: max diff = 2.384185791015625e-07\n",
            "Gradient 3: max diff = 1.1920928955078125e-07\n",
            "Gradient 4: max diff = 5.960464477539063e-08\n",
            "Gradient 5: max diff = 5.960464477539063e-08\n",
            "Gradient 6: max diff = 1.1920928955078125e-07\n",
            "Gradient 7: max diff = 5.960464477539063e-08\n"
          ]
        }
      ],
      "source": [
        "### Check forward pass\n",
        "x = torch.rand(8, 16, requires_grad=True)\n",
        "assert torch.allclose(naive_silu(x), SiLUFunction.apply(x))\n",
        "\n",
        "\n",
        "### Check backward pass\n",
        "x = torch.rand(8, 16, requires_grad=True)\n",
        "\n",
        "# Forward pass\n",
        "out_a = silu_custom(x)\n",
        "out_b = naive_silu(x)\n",
        "\n",
        "grad_output = torch.randn_like(out_a)\n",
        "\n",
        "# Backward pass A\n",
        "grads_a, = torch.autograd.grad(out_a, (x), grad_outputs=grad_output, retain_graph=True)\n",
        "\n",
        "# Backward pass B\n",
        "grads_b, = torch.autograd.grad(out_b, (x), grad_outputs=grad_output, retain_graph=True)\n",
        "\n",
        "for i, (ga, gb) in enumerate(zip(grads_a, grads_b)):\n",
        "    max_diff = (ga - gb).abs().max().item()\n",
        "    print(f\"Gradient {i}: max diff = {max_diff}\")\n",
        "    assert torch.allclose(ga, gb, atol=1e-6), f\"Mismatch in grad {i}\"\n",
        "\n"
      ]
    },
    {
      "cell_type": "code",
      "execution_count": 66,
      "id": "bf3818bb",
      "metadata": {
        "id": "bf3818bb"
      },
      "outputs": [],
      "source": [
        "\n",
        "@triton.jit\n",
        "def silu_kernel_fwd(x_poiter, act_pointer, num_elements, block_size: tl.constexpr):\n",
        "\n",
        "    pid = tl.program_id(axis=0)\n",
        "    pointers = pid*block_size + tl.arange(0, block_size)\n",
        "    mask = pointers < num_elements\n",
        "\n",
        "    x = tl.load(x_poiter+pointers, mask)\n",
        "    # sigma = 1 / (1 + tl.exp(-x))\n",
        "    # chunk_res = x * sigma\n",
        "    chunk_res = x / (1 + tl.exp(-x))\n",
        "\n",
        "    tl.store(act_pointer+pointers, chunk_res, mask)\n",
        "    # tl.store(sigma_pointer+pointers, sigma, mask)\n",
        "\n",
        "\n",
        "def silu_triton_fwd(x:Tensor, block_size:int=2048) -> Tensor:\n",
        "\n",
        "    num_elements = x.numel()\n",
        "    grid = ceil(num_elements / block_size),\n",
        "\n",
        "    act = torch.empty_like(x).to(x.device)\n",
        "    # sigma = torch.empty_like(x).to(x.device)\n",
        "\n",
        "    silu_kernel_fwd[grid](x, act, num_elements, block_size)\n",
        "    return act#, sigma\n",
        "\n",
        "\n",
        "\n",
        "@triton.jit\n",
        "def silu_kernel_bwd(\n",
        "    x_pointer,\n",
        "    # sigma_pointer,\n",
        "    grad_output_pointer,\n",
        "    dL_pointer,\n",
        "    num_elements,\n",
        "    block_size:tl.constexpr\n",
        "):\n",
        "    pid = tl.program_id(axis=0)\n",
        "\n",
        "    pointer_offset = pid*block_size + tl.arange(0, block_size)\n",
        "    mask = pointer_offset < num_elements\n",
        "\n",
        "    grad_output = tl.load(grad_output_pointer+pointer_offset, mask)\n",
        "    # sigma = tl.load(sigma_pointer+pointer_offset, mask)\n",
        "    x = tl.load(x_pointer+pointer_offset, mask)\n",
        "\n",
        "    sigma = 1 / (1 + tl.exp(-x))\n",
        "    dL = grad_output * sigma * (1 + x * (1 - sigma))\n",
        "    tl.store(dL_pointer+pointer_offset, dL, mask)\n",
        "\n",
        "\n",
        "def silu_triton_bwd(x:Tensor, grad_output:Tensor, block_size:int=1024) -> Tensor:\n",
        "    dL = torch.empty_like(grad_output)\n",
        "    num_elements = dL.numel()\n",
        "    grid = ceil(num_elements / block_size),\n",
        "    silu_kernel_bwd[grid](x, grad_output, dL, num_elements, block_size)\n",
        "    return dL\n",
        "\n",
        "\n",
        "class SiLUFunctionTriton(Function):\n",
        "    @staticmethod\n",
        "    def forward(ctx, x:Tensor) -> Tensor:\n",
        "        ctx.save_for_backward(x)\n",
        "        x = silu_triton_fwd(x)\n",
        "        return x\n",
        "\n",
        "    @staticmethod\n",
        "    def backward(ctx, grad_output):\n",
        "        \"\"\" dL = grad_output * sigma * (1 + x * (1 - sigma)) \"\"\"\n",
        "        x, = ctx.saved_tensors\n",
        "        dL = silu_triton_bwd(x, grad_output)\n",
        "        return dL\n",
        "\n",
        "class SiLUModuleTriton(nn.Module):\n",
        "    def __init__(self):\n",
        "        super().__init__()\n",
        "\n",
        "    def forward(self, x: Tensor) -> Tensor:\n",
        "        in_shape = x.shape\n",
        "        return SiLUFunctionTriton.apply(x.view(x.numel())).view(in_shape)\n",
        "\n",
        "silu_fun_triton = SiLUFunctionTriton.apply"
      ]
    },
    {
      "cell_type": "code",
      "execution_count": 67,
      "id": "6acf1d64",
      "metadata": {
        "id": "6acf1d64",
        "outputId": "b60ac3ad-1b5f-47a6-a7ea-78c75cc0fd67",
        "colab": {
          "base_uri": "https://localhost:8080/",
          "height": 753
        }
      },
      "outputs": [
        {
          "output_type": "display_data",
          "data": {
            "text/plain": [
              "<Figure size 640x480 with 1 Axes>"
            ],
            "image/png": "[encoded data removed]"
          },
          "metadata": {}
        },
        {
          "output_type": "stream",
          "name": "stdout",
          "text": [
            "layer-norm-backward:\n",
            "          N      Triton       Torch\n",
            "0    1024.0  237.162839  232.896125\n",
            "1    2048.0  236.805788  236.574265\n",
            "2    3072.0  237.538920  237.892200\n",
            "3    4096.0  238.601945  239.182490\n",
            "4    5120.0  239.138854  239.160663\n",
            "5    6144.0  240.104413  239.884700\n",
            "6    7168.0  239.933058  240.609454\n",
            "7    8192.0  240.292403  240.941181\n",
            "8    9216.0  240.417386  240.658540\n",
            "9   10240.0  240.767816  241.358961\n",
            "10  11264.0  240.756763  241.587127\n",
            "11  12288.0  240.818202  241.514636\n",
            "12  13312.0  241.369227  241.670187\n",
            "13  14336.0  241.176045  241.830267\n",
            "14  15360.0  241.234344  242.048595\n"
          ]
        }
      ],
      "source": [
        "### test that the results are correct\n",
        "# input tensor\n",
        "x = torch.rand(3, 4).to(DEVICE)\n",
        "dy = torch.randn_like(x)\n",
        "x.requires_grad = True\n",
        "\n",
        "# fwd pass\n",
        "act_torch = nn.functional.silu(x)\n",
        "act_triton = silu_fun_triton(x)\n",
        "\n",
        "# bkw pass (torch)\n",
        "act_triton.backward(dy, retain_graph=True)\n",
        "dx_triton  = x.grad.clone()\n",
        "x.grad = None\n",
        "\n",
        "# bwd pass (triton)\n",
        "act_torch.backward(dy, retain_graph=True)\n",
        "dx_torch  = x.grad.clone()\n",
        "\n",
        "# compare\n",
        "# print(dx_torch - dx_triton)\n",
        "# print((dx_torch - dx_triton).norm()/dx_torch.norm())\n",
        "assert torch.allclose(act_torch, act_triton, atol=1e-6, rtol=0)\n",
        "assert torch.allclose(dx_triton, dx_torch, atol=1e-6, rtol=0)\n",
        "\n",
        "\n",
        "\n",
        "### Compare performance\n",
        "@triton.testing.perf_report(\n",
        "    triton.testing.Benchmark(\n",
        "        x_names=['N'],\n",
        "        x_vals=[512 * i for i in range(2, 32, 2)],\n",
        "        line_arg='provider',\n",
        "        line_vals=['triton', 'torch'],\n",
        "        line_names=['Triton', 'Torch'],\n",
        "        styles=[('blue', '-'), ('green', '-'), ('orange', '-')],\n",
        "        ylabel='GB/s',\n",
        "        plot_name='layer-norm-backward',\n",
        "        args={'M': 4096, 'dtype': torch.float32, 'mode': 'backward'},\n",
        "    ))\n",
        "def benchmark(M, N, dtype, provider, mode='backward', device=DEVICE):\n",
        "    # print(f\"mode: {mode}\")\n",
        "    # create data\n",
        "    x_shape = (M, N)\n",
        "    x = -2.3 + 0.5 * torch.randn(x_shape, dtype=dtype, device=device)\n",
        "    dy = .1 * torch.randn_like(x)\n",
        "    x.requires_grad_(True)\n",
        "    quantiles = [0.5, 0.2, 0.8]\n",
        "\n",
        "    def y_fwd():\n",
        "        if provider == \"triton\":\n",
        "            return silu_fun_triton(x)  # noqa: F811, E704\n",
        "\n",
        "        if provider == \"torch\":\n",
        "            return torch.nn.functional.silu(x)  # noqa: F811, E704\n",
        "\n",
        "    # forward pass\n",
        "    if mode == 'forward':\n",
        "        gbps = lambda ms: 2 * x.numel() * x.element_size() * 1e-9 / (ms * 1e-3)\n",
        "        ms, min_ms, max_ms = triton.testing.do_bench(y_fwd, quantiles=quantiles, rep=500)\n",
        "    # backward pass\n",
        "    if mode == 'backward':\n",
        "        y = y_fwd()\n",
        "        gbps = lambda ms: 3 * x.numel() * x.element_size() * 1e-9 / (ms * 1e-3)  # noqa: F811, E704\n",
        "        ms, min_ms, max_ms = triton.testing.do_bench(lambda: y.backward(dy, retain_graph=True), quantiles=quantiles,\n",
        "                                                     grad_to_none=[x], rep=500)\n",
        "    return gbps(ms), gbps(max_ms), gbps(min_ms)\n",
        "\n",
        "\n",
        "benchmark.run(show_plots=True, print_data=True)"
      ]
    },
    {
      "cell_type": "code",
      "source": [],
      "metadata": {
        "id": "j6vuyH5tus5F"
      },
      "id": "j6vuyH5tus5F",
      "execution_count": null,
      "outputs": []
    },
    {
      "cell_type": "code",
      "source": [],
      "metadata": {
        "id": "cQzioQtsszdE"
      },
      "id": "cQzioQtsszdE",
      "execution_count": null,
      "outputs": []
    },
    {
      "cell_type": "code",
      "source": [],
      "metadata": {
        "id": "aIWhivbZpD_J"
      },
      "id": "aIWhivbZpD_J",
      "execution_count": null,
      "outputs": []
    }
  ],
  "metadata": {
    "accelerator": "GPU",
    "colab": {
      "gpuType": "T4",
      "provenance": [],
      "toc_visible": true
    },
    "kernelspec": {
      "display_name": "venv",
      "language": "python",
      "name": "python3"
    },
    "language_info": {
      "codemirror_mode": {
        "name": "ipython",
        "version": 3
      },
      "file_extension": ".py",
      "mimetype": "text/x-python",
      "name": "python",
      "nbconvert_exporter": "python",
      "pygments_lexer": "ipython3",
      "version": "3.10.17"
    }
  },
  "nbformat": 4,
  "nbformat_minor": 5
}