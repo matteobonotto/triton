{
  "cells": [
    {
      "cell_type": "code",
      "execution_count": 1,
      "id": "YlFBDzu-LL6v",
      "metadata": {
        "id": "YlFBDzu-LL6v"
      },
      "outputs": [],
      "source": [
        "import torch\n",
        "from torch import Tensor, nn\n",
        "from math import ceil\n",
        "from torch.autograd import Function"
      ]
    },
    {
      "cell_type": "markdown",
      "id": "07fb2488",
      "metadata": {
        "id": "07fb2488"
      },
      "source": [
        "```math\n",
        "silu(x) = x * \\sigma(x) = \\frac{x}{1+e^{-x}}\n",
        "```"
      ]
    },
    {
      "cell_type": "code",
      "execution_count": 2,
      "id": "1987645d",
      "metadata": {
        "id": "1987645d"
      },
      "outputs": [],
      "source": [
        "def naive_silu(x:Tensor) -> Tensor:\n",
        "    sigma = 1 / (1 + torch.exp(-x))\n",
        "    return x * sigma"
      ]
    },
    {
      "cell_type": "code",
      "execution_count": 25,
      "id": "tNv4E9KJNOGd",
      "metadata": {
        "colab": {
          "base_uri": "https://localhost:8080/",
          "height": 842
        },
        "id": "tNv4E9KJNOGd",
        "outputId": "f8f0d2cd-479d-40c9-c03e-f3df309a9d6f"
      },
      "outputs": [
        {
          "output_type": "display_data",
          "data": {
            "text/plain": [
              "<Figure size 640x480 with 1 Axes>"
            ],
            "image/png": "[encoded data removed]"
          },
          "metadata": {}
        },
        {
          "output_type": "stream",
          "name": "stdout",
          "text": [
            "softmax-performance:\n",
            "          N      Triton       Torch  Naive SiLU\n",
            "0     256.0  198.297155  199.738847   34.763779\n",
            "1     896.0  222.784333  222.558344   35.342444\n",
            "2    1536.0  223.142159  226.784969   35.535460\n",
            "3    2176.0  224.199578  228.083070   35.803001\n",
            "4    2816.0  225.344369  229.263853   35.792121\n",
            "5    3456.0  225.666776  229.677442   35.849403\n",
            "6    4096.0  225.898020  230.542043   35.892775\n",
            "7    4736.0  226.667673  230.746535   35.917672\n",
            "8    5376.0  226.953862  230.909103   35.944663\n",
            "9    6016.0  226.815876  231.381601   35.924768\n",
            "10   6656.0  227.010180  231.301246   35.986854\n",
            "11   7296.0  227.242555  231.552367   36.015214\n",
            "12   7936.0  227.367665  231.682990   31.378247\n",
            "13   8576.0  199.508566  231.396813   35.959919\n",
            "14   9216.0  227.293445  231.773750   36.176894\n",
            "15   9856.0  228.486157  232.470458   35.968881\n",
            "16  10496.0  227.646872  232.266179   36.027474\n",
            "17  11136.0  228.622866  232.790011   36.024432\n",
            "18  11776.0  227.846457  232.118018   36.020758\n",
            "19  12416.0  228.086617  233.229233   36.085584\n"
          ]
        }
      ],
      "source": [
        "import triton\n",
        "import triton.language as tl\n",
        "\n",
        "DEVICE = torch.device('cuda')\n",
        "import math\n",
        "\n",
        "\n",
        "@triton.jit\n",
        "def silu_kernel_fwd(x_poiter, act_pointer, sigma_pointer, num_elements, block_size: tl.constexpr):\n",
        "\n",
        "    pid = tl.program_id(axis=0)\n",
        "    pointers = pid*block_size + tl.arange(0, block_size)\n",
        "    mask = pointers < num_elements\n",
        "\n",
        "    x = tl.load(x_poiter+pointers, mask)\n",
        "    # sigma = 1 / (1 + tl.exp(-x))\n",
        "    # chunk_res = x * sigma\n",
        "    chunk_res = x / (1 + tl.exp(-x))\n",
        "\n",
        "    tl.store(act_pointer+pointers, chunk_res, mask)\n",
        "    # tl.store(sigma_pointer+pointers, sigma, mask)\n",
        "\n",
        "\n",
        "def silu_triton_fwd(x:Tensor, block_size:int=2048) -> Tensor:\n",
        "\n",
        "    num_elements = x.numel()\n",
        "    grid = ceil(num_elements / block_size),\n",
        "\n",
        "    act = torch.empty_like(x).to(x.device)\n",
        "    sigma = torch.empty_like(x).to(x.device)\n",
        "\n",
        "    silu_kernel_fwd[grid](x, act, sigma, num_elements, block_size)\n",
        "    return act#, sigma\n",
        "\n",
        "\n",
        "\n",
        "### performance\n",
        "x = torch.rand(100).to(DEVICE)\n",
        "triton.testing.assert_close(silu_triton_fwd(x), naive_silu(x))\n",
        "\n",
        "@triton.testing.perf_report(\n",
        "    triton.testing.Benchmark(\n",
        "        x_names=['N'],  # argument names to use as an x-axis for the plot\n",
        "        x_vals=[128 * i for i in range(2, 100, 5)],  # different possible values for `x_name`\n",
        "        line_arg='provider',  # argument name whose value corresponds to a different line in the plot\n",
        "        line_vals=['triton', 'torch', 'naive_silu'],  # possible values for `line_arg``\n",
        "        line_names=[\"Triton\", \"Torch\", \"Naive SiLU\"],  # label name for the lines\n",
        "        styles=[('blue', '-'), ('green', '-'), ('red', '-')],  # line styles\n",
        "        ylabel=\"GB/s\",  # label name for the y-axis\n",
        "        plot_name=\"softmax-performance\",  # name for the plot. Used also as a file name for saving the plot.\n",
        "        args={'M': 4096},  # values for function arguments not in `x_names` and `y_name`\n",
        "    ))\n",
        "def benchmark(M, N, provider):\n",
        "    x = torch.randn(M, N, device=DEVICE, dtype=torch.float32)\n",
        "    stream = getattr(torch, DEVICE.type).Stream()\n",
        "    getattr(torch, DEVICE.type).set_stream(stream)\n",
        "    if provider == 'torch':\n",
        "        ms = triton.testing.do_bench(lambda: torch.nn.functional.silu(x))\n",
        "    if provider == 'triton':\n",
        "        ms = triton.testing.do_bench(lambda: silu_triton_fwd(x))\n",
        "    if provider == 'naive_silu':\n",
        "        ms = triton.testing.do_bench(lambda: naive_silu(x))\n",
        "    gbps = lambda ms: 2 * x.numel() * x.element_size() * 1e-9 / (ms * 1e-3)\n",
        "    return gbps(ms)\n",
        "\n",
        "\n",
        "benchmark.run(show_plots=True, print_data=True)"
      ]
    },
    {
      "cell_type": "code",
      "execution_count": 26,
      "id": "dab69c20",
      "metadata": {
        "id": "dab69c20"
      },
      "outputs": [],
      "source": [
        "layer = nn.SiLU()\n",
        "\n",
        "class SiLUFunction(Function):\n",
        "    @staticmethod\n",
        "    def forward(ctx, x:Tensor) -> Tensor:\n",
        "        sigma = 1 / (1 + torch.exp(-x))\n",
        "        ctx.save_for_backward(x, sigma)\n",
        "        return x * sigma\n",
        "\n",
        "    @staticmethod\n",
        "    def backward(ctx, grad_output):\n",
        "        x, sigma,  = ctx.saved_tensors\n",
        "        return grad_output * sigma * (1 + x * (1 - sigma))\n",
        "\n",
        "class SiLUFunctionCustomModule(nn.Module):\n",
        "    def __init__(self):\n",
        "        super().__init__()\n",
        "\n",
        "    def forward(self, x: Tensor) -> Tensor:\n",
        "        in_shape = x.shape\n",
        "        return SiLUFunction.apply(x.view(x.numel())).view(in_shape)\n",
        "\n",
        "silu_custom = SiLUFunctionCustomModule()\n",
        ""
      ]
    },
    {
      "cell_type": "code",
      "execution_count": 27,
      "id": "4c4b0620",
      "metadata": {
        "id": "4c4b0620",
        "outputId": "6f904556-28e8-44a6-fad9-f153456001a6",
        "colab": {
          "base_uri": "https://localhost:8080/"
        }
      },
      "outputs": [
        {
          "output_type": "stream",
          "name": "stdout",
          "text": [
            "Gradient 0: max diff = 1.1920928955078125e-07\n",
            "Gradient 1: max diff = 5.960464477539063e-08\n",
            "Gradient 2: max diff = 5.960464477539063e-08\n",
            "Gradient 3: max diff = 1.1920928955078125e-07\n",
            "Gradient 4: max diff = 1.1920928955078125e-07\n",
            "Gradient 5: max diff = 2.384185791015625e-07\n",
            "Gradient 6: max diff = 2.9802322387695312e-08\n",
            "Gradient 7: max diff = 5.960464477539063e-08\n"
          ]
        }
      ],
      "source": [
        "### Check forward pass\n",
        "x = torch.rand(8, 16, requires_grad=True)\n",
        "assert torch.allclose(naive_silu(x), SiLUFunction.apply(x))\n",
        "\n",
        "\n",
        "### Check backward pass\n",
        "x = torch.rand(8, 16, requires_grad=True)\n",
        "\n",
        "# Forward pass\n",
        "out_a = silu_custom(x)\n",
        "out_b = naive_silu(x)\n",
        "\n",
        "grad_output = torch.randn_like(out_a)\n",
        "\n",
        "# Backward pass A\n",
        "grads_a, = torch.autograd.grad(out_a, (x), grad_outputs=grad_output, retain_graph=True)\n",
        "\n",
        "# Backward pass B\n",
        "grads_b, = torch.autograd.grad(out_b, (x), grad_outputs=grad_output, retain_graph=True)\n",
        "\n",
        "for i, (ga, gb) in enumerate(zip(grads_a, grads_b)):\n",
        "    max_diff = (ga - gb).abs().max().item()\n",
        "    print(f\"Gradient {i}: max diff = {max_diff}\")\n",
        "    assert torch.allclose(ga, gb, atol=1e-6), f\"Mismatch in grad {i}\"\n",
        "\n"
      ]
    },
    {
      "cell_type": "code",
      "execution_count": 42,
      "id": "bf3818bb",
      "metadata": {
        "id": "bf3818bb"
      },
      "outputs": [],
      "source": [
        "\n",
        "@triton.jit\n",
        "def silu_kernel_fwd(x_poiter, act_pointer, sigma_pointer, num_elements, block_size: tl.constexpr):\n",
        "\n",
        "    pid = tl.program_id(axis=0)\n",
        "    pointers = pid*block_size + tl.arange(0, block_size)\n",
        "    mask = pointers < num_elements\n",
        "\n",
        "    x = tl.load(x_poiter+pointers, mask)\n",
        "    # sigma = 1 / (1 + tl.exp(-x))\n",
        "    # chunk_res = x * sigma\n",
        "    chunk_res = x / (1 + tl.exp(-x))\n",
        "\n",
        "    tl.store(act_pointer+pointers, chunk_res, mask)\n",
        "    # tl.store(sigma_pointer+pointers, sigma, mask)\n",
        "\n",
        "\n",
        "def silu_triton_fwd(x:Tensor, block_size:int=2048) -> Tensor:\n",
        "\n",
        "    num_elements = x.numel()\n",
        "    grid = ceil(num_elements / block_size),\n",
        "\n",
        "    act = torch.empty_like(x).to(x.device)\n",
        "    sigma = torch.empty_like(x).to(x.device)\n",
        "\n",
        "    silu_kernel_fwd[grid](x, act, sigma, num_elements, block_size)\n",
        "    return act#, sigma\n",
        "\n",
        "\n",
        "\n",
        "@triton.jit\n",
        "def silu_kernel_bwd(\n",
        "    x_pointer,\n",
        "    # sigma_pointer,\n",
        "    grad_output_pointer,\n",
        "    dL_pointer,\n",
        "    num_elements,\n",
        "    block_size:tl.constexpr\n",
        "):\n",
        "    pid = tl.program_id(axis=0)\n",
        "\n",
        "    pointer_offset = pid*block_size + tl.arange(0, block_size)\n",
        "    mask = pointer_offset < num_elements\n",
        "\n",
        "    grad_output = tl.load(grad_output_pointer+pointer_offset, mask)\n",
        "    # sigma = tl.load(sigma_pointer+pointer_offset, mask)\n",
        "    x = tl.load(x_pointer+pointer_offset, mask)\n",
        "\n",
        "    sigma = 1 / (1 + tl.exp(-x))\n",
        "    dL = grad_output * sigma * (1 + x * (1 - sigma))\n",
        "    tl.store(dL_pointer+pointer_offset, dL, mask)\n",
        "\n",
        "\n",
        "def silu_triton_bwd(x:Tensor, grad_output:Tensor, block_size:int=2048) -> Tensor:\n",
        "    dL = torch.empty_like(grad_output)\n",
        "    num_elements = dL.numel()\n",
        "    grid = ceil(num_elements / block_size),\n",
        "    silu_kernel_bwd[grid](x, grad_output, dL, num_elements, block_size)\n",
        "    return dL\n",
        "\n",
        "\n",
        "class SiLUFunctionTriton(Function):\n",
        "    @staticmethod\n",
        "    def forward(ctx, x:Tensor) -> Tensor:\n",
        "        ctx.save_for_backward(x)\n",
        "        x = silu_triton_fwd(x)\n",
        "        return x\n",
        "\n",
        "    @staticmethod\n",
        "    def backward(ctx, grad_output):\n",
        "        \"\"\" dL = grad_output * sigma * (1 + x * (1 - sigma)) \"\"\"\n",
        "        x, = ctx.saved_tensors\n",
        "        dL = silu_triton_bwd(x, grad_output)\n",
        "        return dL\n",
        "\n",
        "class SiLUModuleTriton(nn.Module):\n",
        "    def __init__(self):\n",
        "        super().__init__()\n",
        "\n",
        "    def forward(self, x: Tensor) -> Tensor:\n",
        "        in_shape = x.shape\n",
        "        return SiLUFunctionTriton.apply(x.view(x.numel())).view(in_shape)\n",
        "\n",
        "silu_fun_triton = SiLUFunctionTriton.apply"
      ]
    },
    {
      "cell_type": "code",
      "execution_count": 44,
      "id": "6acf1d64",
      "metadata": {
        "id": "6acf1d64",
        "outputId": "8e5eec9b-7c34-47ff-a642-2276e49c0198",
        "colab": {
          "base_uri": "https://localhost:8080/",
          "height": 347
        }
      },
      "outputs": [
        {
          "output_type": "stream",
          "name": "stdout",
          "text": [
            "Testing mode: backward\n"
          ]
        },
        {
          "output_type": "error",
          "ename": "RuntimeError",
          "evalue": "element 0 of tensors does not require grad and does not have a grad_fn",
          "traceback": [
            "\u001b[0;31m---------------------------------------------------------------------------\u001b[0m",
            "\u001b[0;31mRuntimeError\u001b[0m                              Traceback (most recent call last)",
            "\u001b[0;32m/tmp/ipython-input-2624752481.py\u001b[0m in \u001b[0;36m<cell line: 0>\u001b[0;34m()\u001b[0m\n\u001b[1;32m     78\u001b[0m \u001b[0;34m\u001b[0m\u001b[0m\n\u001b[1;32m     79\u001b[0m \u001b[0;34m\u001b[0m\u001b[0m\n\u001b[0;32m---> 80\u001b[0;31m \u001b[0mbenchmark\u001b[0m\u001b[0;34m.\u001b[0m\u001b[0mrun\u001b[0m\u001b[0;34m(\u001b[0m\u001b[0mshow_plots\u001b[0m\u001b[0;34m=\u001b[0m\u001b[0;32mTrue\u001b[0m\u001b[0;34m,\u001b[0m \u001b[0mprint_data\u001b[0m\u001b[0;34m=\u001b[0m\u001b[0;32mTrue\u001b[0m\u001b[0;34m)\u001b[0m\u001b[0;34m\u001b[0m\u001b[0;34m\u001b[0m\u001b[0m\n\u001b[0m",
            "\u001b[0;32m/usr/local/lib/python3.12/dist-packages/triton/testing.py\u001b[0m in \u001b[0;36mrun\u001b[0;34m(self, show_plots, print_data, save_path, return_df, **kwargs)\u001b[0m\n\u001b[1;32m    390\u001b[0m         \u001b[0;32mtry\u001b[0m\u001b[0;34m:\u001b[0m\u001b[0;34m\u001b[0m\u001b[0;34m\u001b[0m\u001b[0m\n\u001b[1;32m    391\u001b[0m             \u001b[0;32mfor\u001b[0m \u001b[0mbench\u001b[0m \u001b[0;32min\u001b[0m \u001b[0mbenchmarks\u001b[0m\u001b[0;34m:\u001b[0m\u001b[0;34m\u001b[0m\u001b[0;34m\u001b[0m\u001b[0m\n\u001b[0;32m--> 392\u001b[0;31m                 \u001b[0mresult_dfs\u001b[0m\u001b[0;34m.\u001b[0m\u001b[0mappend\u001b[0m\u001b[0;34m(\u001b[0m\u001b[0mself\u001b[0m\u001b[0;34m.\u001b[0m\u001b[0m_run\u001b[0m\u001b[0;34m(\u001b[0m\u001b[0mbench\u001b[0m\u001b[0;34m,\u001b[0m \u001b[0msave_path\u001b[0m\u001b[0;34m,\u001b[0m \u001b[0mshow_plots\u001b[0m\u001b[0;34m,\u001b[0m \u001b[0mprint_data\u001b[0m\u001b[0;34m,\u001b[0m \u001b[0;34m**\u001b[0m\u001b[0mkwargs\u001b[0m\u001b[0;34m)\u001b[0m\u001b[0;34m)\u001b[0m\u001b[0;34m\u001b[0m\u001b[0;34m\u001b[0m\u001b[0m\n\u001b[0m\u001b[1;32m    393\u001b[0m         \u001b[0;32mfinally\u001b[0m\u001b[0;34m:\u001b[0m\u001b[0;34m\u001b[0m\u001b[0;34m\u001b[0m\u001b[0m\n\u001b[1;32m    394\u001b[0m             \u001b[0;32mif\u001b[0m \u001b[0msave_path\u001b[0m\u001b[0;34m:\u001b[0m\u001b[0;34m\u001b[0m\u001b[0;34m\u001b[0m\u001b[0m\n",
            "\u001b[0;32m/usr/local/lib/python3.12/dist-packages/triton/testing.py\u001b[0m in \u001b[0;36m_run\u001b[0;34m(self, bench, save_path, show_plots, print_data, diff_col, save_precision, **kwrags)\u001b[0m\n\u001b[1;32m    337\u001b[0m             \u001b[0mrow_mean\u001b[0m\u001b[0;34m,\u001b[0m \u001b[0mrow_min\u001b[0m\u001b[0;34m,\u001b[0m \u001b[0mrow_max\u001b[0m \u001b[0;34m=\u001b[0m \u001b[0;34m[\u001b[0m\u001b[0;34m]\u001b[0m\u001b[0;34m,\u001b[0m \u001b[0;34m[\u001b[0m\u001b[0;34m]\u001b[0m\u001b[0;34m,\u001b[0m \u001b[0;34m[\u001b[0m\u001b[0;34m]\u001b[0m\u001b[0;34m\u001b[0m\u001b[0;34m\u001b[0m\u001b[0m\n\u001b[1;32m    338\u001b[0m             \u001b[0;32mfor\u001b[0m \u001b[0my\u001b[0m \u001b[0;32min\u001b[0m \u001b[0mbench\u001b[0m\u001b[0;34m.\u001b[0m\u001b[0mline_vals\u001b[0m\u001b[0;34m:\u001b[0m\u001b[0;34m\u001b[0m\u001b[0;34m\u001b[0m\u001b[0m\n\u001b[0;32m--> 339\u001b[0;31m                 \u001b[0mret\u001b[0m \u001b[0;34m=\u001b[0m \u001b[0mself\u001b[0m\u001b[0;34m.\u001b[0m\u001b[0mfn\u001b[0m\u001b[0;34m(\u001b[0m\u001b[0;34m**\u001b[0m\u001b[0mx_args\u001b[0m\u001b[0;34m,\u001b[0m \u001b[0;34m**\u001b[0m\u001b[0;34m{\u001b[0m\u001b[0mbench\u001b[0m\u001b[0;34m.\u001b[0m\u001b[0mline_arg\u001b[0m\u001b[0;34m:\u001b[0m \u001b[0my\u001b[0m\u001b[0;34m}\u001b[0m\u001b[0;34m,\u001b[0m \u001b[0;34m**\u001b[0m\u001b[0mbench\u001b[0m\u001b[0;34m.\u001b[0m\u001b[0margs\u001b[0m\u001b[0;34m,\u001b[0m \u001b[0;34m**\u001b[0m\u001b[0mkwrags\u001b[0m\u001b[0;34m)\u001b[0m\u001b[0;34m\u001b[0m\u001b[0;34m\u001b[0m\u001b[0m\n\u001b[0m\u001b[1;32m    340\u001b[0m                 \u001b[0;32mtry\u001b[0m\u001b[0;34m:\u001b[0m\u001b[0;34m\u001b[0m\u001b[0;34m\u001b[0m\u001b[0m\n\u001b[1;32m    341\u001b[0m                     \u001b[0my_mean\u001b[0m\u001b[0;34m,\u001b[0m \u001b[0my_min\u001b[0m\u001b[0;34m,\u001b[0m \u001b[0my_max\u001b[0m \u001b[0;34m=\u001b[0m \u001b[0mret\u001b[0m\u001b[0;34m\u001b[0m\u001b[0;34m\u001b[0m\u001b[0m\n",
            "\u001b[0;32m/tmp/ipython-input-2624752481.py\u001b[0m in \u001b[0;36mbenchmark\u001b[0;34m(M, N, provider, mode)\u001b[0m\n\u001b[1;32m     69\u001b[0m         \u001b[0my\u001b[0m \u001b[0;34m=\u001b[0m \u001b[0my_fwd_only\u001b[0m\u001b[0;34m(\u001b[0m\u001b[0;34m)\u001b[0m\u001b[0;34m\u001b[0m\u001b[0;34m\u001b[0m\u001b[0m\n\u001b[1;32m     70\u001b[0m         \u001b[0mgbps\u001b[0m \u001b[0;34m=\u001b[0m \u001b[0;32mlambda\u001b[0m \u001b[0mms\u001b[0m\u001b[0;34m:\u001b[0m \u001b[0;36m3\u001b[0m \u001b[0;34m*\u001b[0m \u001b[0mx\u001b[0m\u001b[0;34m.\u001b[0m\u001b[0mnumel\u001b[0m\u001b[0;34m(\u001b[0m\u001b[0;34m)\u001b[0m \u001b[0;34m*\u001b[0m \u001b[0mx\u001b[0m\u001b[0;34m.\u001b[0m\u001b[0melement_size\u001b[0m\u001b[0;34m(\u001b[0m\u001b[0;34m)\u001b[0m \u001b[0;34m*\u001b[0m \u001b[0;36m1e-9\u001b[0m \u001b[0;34m/\u001b[0m \u001b[0;34m(\u001b[0m\u001b[0mms\u001b[0m \u001b[0;34m*\u001b[0m \u001b[0;36m1e-3\u001b[0m\u001b[0;34m)\u001b[0m\u001b[0;34m\u001b[0m\u001b[0;34m\u001b[0m\u001b[0m\n\u001b[0;32m---> 71\u001b[0;31m         ms, min_ms, max_ms = triton.testing.do_bench(\n\u001b[0m\u001b[1;32m     72\u001b[0m             \u001b[0;32mlambda\u001b[0m\u001b[0;34m:\u001b[0m \u001b[0my\u001b[0m\u001b[0;34m.\u001b[0m\u001b[0mbackward\u001b[0m\u001b[0;34m(\u001b[0m\u001b[0mdy\u001b[0m\u001b[0;34m,\u001b[0m \u001b[0mretain_graph\u001b[0m\u001b[0;34m=\u001b[0m\u001b[0;32mTrue\u001b[0m\u001b[0;34m)\u001b[0m\u001b[0;34m,\u001b[0m\u001b[0;34m\u001b[0m\u001b[0;34m\u001b[0m\u001b[0m\n\u001b[1;32m     73\u001b[0m             \u001b[0mquantiles\u001b[0m\u001b[0;34m=\u001b[0m\u001b[0mquantiles\u001b[0m\u001b[0;34m,\u001b[0m\u001b[0;34m\u001b[0m\u001b[0;34m\u001b[0m\u001b[0m\n",
            "\u001b[0;32m/usr/local/lib/python3.12/dist-packages/triton/testing.py\u001b[0m in \u001b[0;36mdo_bench\u001b[0;34m(fn, warmup, rep, grad_to_none, quantiles, return_mode)\u001b[0m\n\u001b[1;32m    147\u001b[0m     \u001b[0mdi\u001b[0m \u001b[0;34m=\u001b[0m \u001b[0mruntime\u001b[0m\u001b[0;34m.\u001b[0m\u001b[0mdriver\u001b[0m\u001b[0;34m.\u001b[0m\u001b[0mactive\u001b[0m\u001b[0;34m.\u001b[0m\u001b[0mget_device_interface\u001b[0m\u001b[0;34m(\u001b[0m\u001b[0;34m)\u001b[0m\u001b[0;34m\u001b[0m\u001b[0;34m\u001b[0m\u001b[0m\n\u001b[1;32m    148\u001b[0m \u001b[0;34m\u001b[0m\u001b[0m\n\u001b[0;32m--> 149\u001b[0;31m     \u001b[0mfn\u001b[0m\u001b[0;34m(\u001b[0m\u001b[0;34m)\u001b[0m\u001b[0;34m\u001b[0m\u001b[0;34m\u001b[0m\u001b[0m\n\u001b[0m\u001b[1;32m    150\u001b[0m     \u001b[0mdi\u001b[0m\u001b[0;34m.\u001b[0m\u001b[0msynchronize\u001b[0m\u001b[0;34m(\u001b[0m\u001b[0;34m)\u001b[0m\u001b[0;34m\u001b[0m\u001b[0;34m\u001b[0m\u001b[0m\n\u001b[1;32m    151\u001b[0m \u001b[0;34m\u001b[0m\u001b[0m\n",
            "\u001b[0;32m/tmp/ipython-input-2624752481.py\u001b[0m in \u001b[0;36m<lambda>\u001b[0;34m()\u001b[0m\n\u001b[1;32m     70\u001b[0m         \u001b[0mgbps\u001b[0m \u001b[0;34m=\u001b[0m \u001b[0;32mlambda\u001b[0m \u001b[0mms\u001b[0m\u001b[0;34m:\u001b[0m \u001b[0;36m3\u001b[0m \u001b[0;34m*\u001b[0m \u001b[0mx\u001b[0m\u001b[0;34m.\u001b[0m\u001b[0mnumel\u001b[0m\u001b[0;34m(\u001b[0m\u001b[0;34m)\u001b[0m \u001b[0;34m*\u001b[0m \u001b[0mx\u001b[0m\u001b[0;34m.\u001b[0m\u001b[0melement_size\u001b[0m\u001b[0;34m(\u001b[0m\u001b[0;34m)\u001b[0m \u001b[0;34m*\u001b[0m \u001b[0;36m1e-9\u001b[0m \u001b[0;34m/\u001b[0m \u001b[0;34m(\u001b[0m\u001b[0mms\u001b[0m \u001b[0;34m*\u001b[0m \u001b[0;36m1e-3\u001b[0m\u001b[0;34m)\u001b[0m\u001b[0;34m\u001b[0m\u001b[0;34m\u001b[0m\u001b[0m\n\u001b[1;32m     71\u001b[0m         ms, min_ms, max_ms = triton.testing.do_bench(\n\u001b[0;32m---> 72\u001b[0;31m             \u001b[0;32mlambda\u001b[0m\u001b[0;34m:\u001b[0m \u001b[0my\u001b[0m\u001b[0;34m.\u001b[0m\u001b[0mbackward\u001b[0m\u001b[0;34m(\u001b[0m\u001b[0mdy\u001b[0m\u001b[0;34m,\u001b[0m \u001b[0mretain_graph\u001b[0m\u001b[0;34m=\u001b[0m\u001b[0;32mTrue\u001b[0m\u001b[0;34m)\u001b[0m\u001b[0;34m,\u001b[0m\u001b[0;34m\u001b[0m\u001b[0;34m\u001b[0m\u001b[0m\n\u001b[0m\u001b[1;32m     73\u001b[0m             \u001b[0mquantiles\u001b[0m\u001b[0;34m=\u001b[0m\u001b[0mquantiles\u001b[0m\u001b[0;34m,\u001b[0m\u001b[0;34m\u001b[0m\u001b[0;34m\u001b[0m\u001b[0m\n\u001b[1;32m     74\u001b[0m             \u001b[0mgrad_to_none\u001b[0m\u001b[0;34m=\u001b[0m\u001b[0;34m[\u001b[0m\u001b[0mx\u001b[0m\u001b[0;34m]\u001b[0m\u001b[0;34m,\u001b[0m\u001b[0;34m\u001b[0m\u001b[0;34m\u001b[0m\u001b[0m\n",
            "\u001b[0;32m/usr/local/lib/python3.12/dist-packages/torch/_tensor.py\u001b[0m in \u001b[0;36mbackward\u001b[0;34m(self, gradient, retain_graph, create_graph, inputs)\u001b[0m\n\u001b[1;32m    645\u001b[0m                 \u001b[0minputs\u001b[0m\u001b[0;34m=\u001b[0m\u001b[0minputs\u001b[0m\u001b[0;34m,\u001b[0m\u001b[0;34m\u001b[0m\u001b[0;34m\u001b[0m\u001b[0m\n\u001b[1;32m    646\u001b[0m             )\n\u001b[0;32m--> 647\u001b[0;31m         torch.autograd.backward(\n\u001b[0m\u001b[1;32m    648\u001b[0m             \u001b[0mself\u001b[0m\u001b[0;34m,\u001b[0m \u001b[0mgradient\u001b[0m\u001b[0;34m,\u001b[0m \u001b[0mretain_graph\u001b[0m\u001b[0;34m,\u001b[0m \u001b[0mcreate_graph\u001b[0m\u001b[0;34m,\u001b[0m \u001b[0minputs\u001b[0m\u001b[0;34m=\u001b[0m\u001b[0minputs\u001b[0m\u001b[0;34m\u001b[0m\u001b[0;34m\u001b[0m\u001b[0m\n\u001b[1;32m    649\u001b[0m         )\n",
            "\u001b[0;32m/usr/local/lib/python3.12/dist-packages/torch/autograd/__init__.py\u001b[0m in \u001b[0;36mbackward\u001b[0;34m(tensors, grad_tensors, retain_graph, create_graph, grad_variables, inputs)\u001b[0m\n\u001b[1;32m    352\u001b[0m     \u001b[0;31m# some Python versions print out the first line of a multi-line function\u001b[0m\u001b[0;34m\u001b[0m\u001b[0;34m\u001b[0m\u001b[0m\n\u001b[1;32m    353\u001b[0m     \u001b[0;31m# calls in the traceback and some print out the last line\u001b[0m\u001b[0;34m\u001b[0m\u001b[0;34m\u001b[0m\u001b[0m\n\u001b[0;32m--> 354\u001b[0;31m     _engine_run_backward(\n\u001b[0m\u001b[1;32m    355\u001b[0m         \u001b[0mtensors\u001b[0m\u001b[0;34m,\u001b[0m\u001b[0;34m\u001b[0m\u001b[0;34m\u001b[0m\u001b[0m\n\u001b[1;32m    356\u001b[0m         \u001b[0mgrad_tensors_\u001b[0m\u001b[0;34m,\u001b[0m\u001b[0;34m\u001b[0m\u001b[0;34m\u001b[0m\u001b[0m\n",
            "\u001b[0;32m/usr/local/lib/python3.12/dist-packages/torch/autograd/graph.py\u001b[0m in \u001b[0;36m_engine_run_backward\u001b[0;34m(t_outputs, *args, **kwargs)\u001b[0m\n\u001b[1;32m    827\u001b[0m         \u001b[0munregister_hooks\u001b[0m \u001b[0;34m=\u001b[0m \u001b[0m_register_logging_hooks_on_whole_graph\u001b[0m\u001b[0;34m(\u001b[0m\u001b[0mt_outputs\u001b[0m\u001b[0;34m)\u001b[0m\u001b[0;34m\u001b[0m\u001b[0;34m\u001b[0m\u001b[0m\n\u001b[1;32m    828\u001b[0m     \u001b[0;32mtry\u001b[0m\u001b[0;34m:\u001b[0m\u001b[0;34m\u001b[0m\u001b[0;34m\u001b[0m\u001b[0m\n\u001b[0;32m--> 829\u001b[0;31m         return Variable._execution_engine.run_backward(  # Calls into the C++ engine to run the backward pass\n\u001b[0m\u001b[1;32m    830\u001b[0m             \u001b[0mt_outputs\u001b[0m\u001b[0;34m,\u001b[0m \u001b[0;34m*\u001b[0m\u001b[0margs\u001b[0m\u001b[0;34m,\u001b[0m \u001b[0;34m**\u001b[0m\u001b[0mkwargs\u001b[0m\u001b[0;34m\u001b[0m\u001b[0;34m\u001b[0m\u001b[0m\n\u001b[1;32m    831\u001b[0m         )  # Calls into the C++ engine to run the backward pass\n",
            "\u001b[0;31mRuntimeError\u001b[0m: element 0 of tensors does not require grad and does not have a grad_fn"
          ]
        }
      ],
      "source": [
        "### test that the results are correct\n",
        "# input tensor\n",
        "x = torch.rand(3, 4).to(DEVICE)\n",
        "dy = torch.randn_like(x)\n",
        "x.requires_grad = True\n",
        "\n",
        "# fwd pass\n",
        "act_torch = nn.functional.silu(x)\n",
        "act_triton = SiLUFunctionTriton.apply(x)\n",
        "\n",
        "# bkw pass (torch)\n",
        "act_triton.backward(dy, retain_graph=True)\n",
        "dx_triton  = x.grad.clone()\n",
        "x.grad = None\n",
        "\n",
        "# bwd pass (triton)\n",
        "act_torch.backward(dy, retain_graph=True)\n",
        "dx_torch  = x.grad.clone()\n",
        "\n",
        "# compare\n",
        "# print(dx_torch - dx_triton)\n",
        "# print((dx_torch - dx_triton).norm()/dx_torch.norm())\n",
        "assert torch.allclose(act_torch, act_triton, atol=1e-6, rtol=0)\n",
        "assert torch.allclose(dx_triton, dx_torch, atol=1e-6, rtol=0)\n",
        "\n",
        "\n",
        "\n",
        "### Compare performance\n",
        "@triton.testing.perf_report(\n",
        "    triton.testing.Benchmark(\n",
        "        x_names=['N'],\n",
        "        x_vals=[512 * i for i in range(2, 32)],\n",
        "        line_arg='provider',\n",
        "        line_vals=['triton', 'torch'] + (['apex'] if HAS_APEX else []),\n",
        "        line_names=['Triton', 'Torch'] + (['Apex'] if HAS_APEX else []),\n",
        "        styles=[('blue', '-'), ('green', '-'), ('orange', '-')],\n",
        "        ylabel='GB/s',\n",
        "        plot_name='layer-norm-backward',\n",
        "        args={'M': 4096, 'dtype': torch.float16, 'mode': 'backward'},\n",
        "    ))\n",
        "def bench_layer_norm(M, N, dtype, provider, mode='backward', eps=1e-5, device=DEVICE):\n",
        "    # create data\n",
        "    x_shape = (M, N)\n",
        "    w_shape = (x_shape[-1], )\n",
        "    weight = torch.rand(w_shape, dtype=dtype, device=device, requires_grad=True)\n",
        "    bias = torch.rand(w_shape, dtype=dtype, device=device, requires_grad=True)\n",
        "    x = -2.3 + 0.5 * torch.randn(x_shape, dtype=dtype, device=device)\n",
        "    dy = .1 * torch.randn_like(x)\n",
        "    x.requires_grad_(True)\n",
        "    quantiles = [0.5, 0.2, 0.8]\n",
        "\n",
        "    def y_fwd():\n",
        "\n",
        "        if provider == \"triton\":\n",
        "            return silu_fun_triton(x, w_shape, weight, bias, eps)  # noqa: F811, E704\n",
        "\n",
        "        if provider == \"torch\":\n",
        "            return torch.nn.functional.silu(x, w_shape, weight, bias, eps)  # noqa: F811, E704\n",
        "\n",
        "    # forward pass\n",
        "    if mode == 'forward':\n",
        "        gbps = lambda ms: 2 * x.numel() * x.element_size() * 1e-9 / (ms * 1e-3)\n",
        "        ms, min_ms, max_ms = triton.testing.do_bench(y_fwd, quantiles=quantiles, rep=500)\n",
        "    # backward pass\n",
        "    if mode == 'backward':\n",
        "        y = y_fwd()\n",
        "        gbps = lambda ms: 3 * x.numel() * x.element_size() * 1e-9 / (ms * 1e-3)  # noqa: F811, E704\n",
        "        ms, min_ms, max_ms = triton.testing.do_bench(lambda: y.backward(dy, retain_graph=True), quantiles=quantiles,\n",
        "                                                     grad_to_none=[x], rep=500)\n",
        "    return gbps(ms), gbps(max_ms), gbps(min_ms)\n",
        "\n",
        "\n",
        "test_layer_norm(1151, 8192, torch.float16)\n",
        "bench_layer_norm.run(save_path='.', print_data=True)\n",
        "\n",
        "benchmark.run(show_plots=True, print_data=True)"
      ]
    },
    {
      "cell_type": "code",
      "source": [],
      "metadata": {
        "id": "j6vuyH5tus5F"
      },
      "id": "j6vuyH5tus5F",
      "execution_count": null,
      "outputs": []
    },
    {
      "cell_type": "code",
      "source": [],
      "metadata": {
        "id": "cQzioQtsszdE"
      },
      "id": "cQzioQtsszdE",
      "execution_count": null,
      "outputs": []
    },
    {
      "cell_type": "code",
      "source": [],
      "metadata": {
        "id": "aIWhivbZpD_J"
      },
      "id": "aIWhivbZpD_J",
      "execution_count": 13,
      "outputs": []
    }
  ],
  "metadata": {
    "accelerator": "GPU",
    "colab": {
      "gpuType": "T4",
      "provenance": [],
      "toc_visible": true
    },
    "kernelspec": {
      "display_name": "venv",
      "language": "python",
      "name": "python3"
    },
    "language_info": {
      "codemirror_mode": {
        "name": "ipython",
        "version": 3
      },
      "file_extension": ".py",
      "mimetype": "text/x-python",
      "name": "python",
      "nbconvert_exporter": "python",
      "pygments_lexer": "ipython3",
      "version": "3.10.17"
    }
  },
  "nbformat": 4,
  "nbformat_minor": 5
}