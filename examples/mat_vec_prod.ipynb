{
  "cells": [
    {
      "cell_type": "code",
      "execution_count": 1,
      "id": "ca1d3c79",
      "metadata": {
        "id": "ca1d3c79",
        "outputId": "1da8e958-d384-42db-a1d1-020653140d36",
        "colab": {
          "base_uri": "https://localhost:8080/"
        }
      },
      "outputs": [
        {
          "output_type": "stream",
          "name": "stdout",
          "text": [
            "DEVICE=device(type='cuda')\n"
          ]
        }
      ],
      "source": [
        "import torch\n",
        "from torch import Tensor\n",
        "import triton\n",
        "import triton.language as tl\n",
        "\n",
        "assert torch.cuda.is_available()\n",
        "DEVICE = torch.device('cuda')\n",
        "print(f\"{DEVICE=}\")"
      ]
    },
    {
      "cell_type": "code",
      "source": [
        "def matvec(A: Tensor, x:Tensor) -> Tensor:\n",
        "    # return torch.einsum('ij,j->i',A, x)\n",
        "    return torch.matmul(A, x)"
      ],
      "metadata": {
        "id": "iL8hi6qkvsqh"
      },
      "id": "iL8hi6qkvsqh",
      "execution_count": 75,
      "outputs": []
    },
    {
      "cell_type": "code",
      "source": [
        "@triton.jit\n",
        "def matvec_triton_kernel(A_pointer, x_pointer, y_pointer, A_row_stride, x_row_stride, y_row_stride, nrows, ncols, block_size: tl.constexpr):\n",
        "\n",
        "    pid = tl.program_id(axis=0)\n",
        "    step = tl.num_programs(axis=0)\n",
        "\n",
        "    col_offset = tl.arange(0, block_size)\n",
        "    mask = col_offset < ncols\n",
        "\n",
        "    for row_idx in tl.range(pid, nrows, step):\n",
        "        A_row_pointer = A_pointer + row_idx * A_row_stride\n",
        "        A_col_pointer = A_row_pointer + col_offset\n",
        "\n",
        "        x_row_pointer = x_pointer + col_offset\n",
        "\n",
        "        a = tl.load(A_col_pointer, mask)\n",
        "        x = tl.load(x_row_pointer, mask)\n",
        "\n",
        "        y = tl.sum(a * x)\n",
        "        y_row_pointer = y_pointer + row_idx\n",
        "\n",
        "        tl.store(y_row_pointer, y)\n",
        "\n",
        "\n",
        "\n",
        "def matvec_triton(A: Tensor, x:Tensor) -> Tensor:\n",
        "    assert A.is_cuda and x.is_cuda\n",
        "    assert A.ndim == 2 and x.ndim == 1\n",
        "\n",
        "    nrows, ncols = A.shape\n",
        "    block_size = triton.next_power_of_2(ncols)\n",
        "    y = torch.empty_like(A[:,0])\n",
        "\n",
        "    grid = nrows,\n",
        "\n",
        "    matvec_triton_kernel[grid](A, x, y, A.stride(0), x.stride(0), y.stride(0), nrows, ncols, block_size)\n",
        "\n",
        "    return y\n"
      ],
      "metadata": {
        "id": "P5Zl0nOwwaK9"
      },
      "id": "P5Zl0nOwwaK9",
      "execution_count": 76,
      "outputs": []
    },
    {
      "cell_type": "code",
      "source": [
        "A = torch.rand(400, 400).to(DEVICE)\n",
        "x = torch.rand(400,).to(DEVICE)\n",
        "\n",
        "assert torch.allclose(matvec(A, x), matvec_triton(A, x))"
      ],
      "metadata": {
        "id": "XkDU7Hwi0gpb"
      },
      "id": "XkDU7Hwi0gpb",
      "execution_count": 77,
      "outputs": []
    },
    {
      "cell_type": "code",
      "source": [
        "@triton.testing.perf_report(\n",
        "    triton.testing.Benchmark(\n",
        "        x_names=['N'],  # argument names to use as an x-axis for the plot\n",
        "        x_vals=[128 * i for i in range(2, 100, 5)],  # different possible values for `x_name`\n",
        "        line_arg='provider',  # argument name whose value corresponds to a different line in the plot\n",
        "        line_vals=['triton', 'torch',],  # possible values for `line_arg``\n",
        "        line_names=[\"Triton\", \"Torch\",],  # label name for the lines\n",
        "        styles=[('blue', '-'), ('green', '-')],  # line styles\n",
        "        ylabel=\"GB/s\",  # label name for the y-axis\n",
        "        plot_name=\"softmax-performance\",  # name for the plot. Used also as a file name for saving the plot.\n",
        "        args={'M': 4096},  # values for function arguments not in `x_names` and `y_name`\n",
        "    ))\n",
        "def benchmark(M, N, provider):\n",
        "    A = torch.randn(M, N, device=DEVICE, dtype=torch.float32)\n",
        "    x = torch.randn(N, device=DEVICE, dtype=torch.float32)\n",
        "    stream = getattr(torch, DEVICE.type).Stream()\n",
        "    getattr(torch, DEVICE.type).set_stream(stream)\n",
        "    if provider == 'torch':\n",
        "        ms = triton.testing.do_bench(lambda: matvec(A, x))\n",
        "    if provider == 'triton':\n",
        "        ms = triton.testing.do_bench(lambda: matvec_triton(A, x))\n",
        "    gbps = lambda ms: 2 * x.numel() * x.element_size() * 1e-9 / (ms * 1e-3)\n",
        "    return gbps(ms)\n",
        "\n",
        "\n",
        "benchmark.run(show_plots=True, print_data=True)"
      ],
      "metadata": {
        "id": "Qt6Dfm9D0zFf",
        "outputId": "d25c19f0-df6b-424e-c278-07a52cca5bce",
        "colab": {
          "base_uri": "https://localhost:8080/",
          "height": 842
        }
      },
      "id": "Qt6Dfm9D0zFf",
      "execution_count": 79,
      "outputs": [
        {
          "output_type": "display_data",
          "data": {
            "text/plain": [
              "<Figure size 640x480 with 1 Axes>"
            ],
            "image/png": "[encoded data removed]"
          },
          "metadata": {}
        },
        {
          "output_type": "stream",
          "name": "stdout",
          "text": [
            "softmax-performance:\n",
            "          N    Triton     Torch\n",
            "0     256.0  0.054832  0.066195\n",
            "1     896.0  0.107956  0.095567\n",
            "2    1536.0  0.118074  0.101263\n",
            "3    2176.0  0.122619  0.104617\n",
            "4    2816.0  0.123045  0.104321\n",
            "5    3456.0  0.124319  0.111655\n",
            "6    4096.0  0.124792  0.113874\n",
            "7    4736.0  0.127336  0.115239\n",
            "8    5376.0  0.127313  0.115463\n",
            "9    6016.0  0.127831  0.116086\n",
            "10   6656.0  0.128280  0.116272\n",
            "11   7296.0  0.128595  0.117020\n",
            "12   7936.0  0.128772  0.116631\n",
            "13   8576.0  0.129358  0.114240\n",
            "14   9216.0  0.130396  0.118880\n",
            "15   9856.0  0.128932  0.119051\n",
            "16  10496.0  0.129584  0.118609\n",
            "17  11136.0  0.128296  0.118952\n",
            "18  11776.0  0.128124  0.119590\n",
            "19  12416.0  0.129869  0.119422\n"
          ]
        }
      ]
    },
    {
      "cell_type": "code",
      "source": [],
      "metadata": {
        "id": "-aol6FDfCuuD"
      },
      "id": "-aol6FDfCuuD",
      "execution_count": null,
      "outputs": []
    }
  ],
  "metadata": {
    "language_info": {
      "name": "python"
    },
    "colab": {
      "provenance": [],
      "gpuType": "T4"
    },
    "kernelspec": {
      "name": "python3",
      "display_name": "Python 3"
    },
    "accelerator": "GPU"
  },
  "nbformat": 4,
  "nbformat_minor": 5
}