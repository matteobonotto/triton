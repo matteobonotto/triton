{
 "cells": [
  {
   "cell_type": "code",
   "execution_count": 8,
   "id": "YlFBDzu-LL6v",
   "metadata": {
    "executionInfo": {
     "elapsed": 4961,
     "status": "ok",
     "timestamp": 1756050459713,
     "user": {
      "displayName": "Matteo Bonotto",
      "userId": "01035356913648804886"
     },
     "user_tz": -120
    },
    "id": "YlFBDzu-LL6v"
   },
   "outputs": [],
   "source": [
    "import torch\n",
    "from torch import Tensor\n",
    "from math import ceil\n",
    "from torch.autograd import Function\n",
    "\n",
    "DEVICE = torch.device('cuda') if torch.cuda.is_available() else torch.device('cpu')"
   ]
  },
  {
   "cell_type": "code",
   "execution_count": null,
   "id": "649083dd",
   "metadata": {},
   "outputs": [],
   "source": [
    "import triton\n",
    "import triton.language as tl"
   ]
  },
  {
   "cell_type": "code",
   "execution_count": 29,
   "id": "hRyr14v0wSwN",
   "metadata": {
    "executionInfo": {
     "elapsed": 42,
     "status": "ok",
     "timestamp": 1756051321207,
     "user": {
      "displayName": "Matteo Bonotto",
      "userId": "01035356913648804886"
     },
     "user_tz": -120
    },
    "id": "hRyr14v0wSwN"
   },
   "outputs": [],
   "source": [
    "def naive_softmax(x:Tensor) -> Tensor:\n",
    "    max = x.max()\n",
    "    x -= x.max(dim = -1)[0][:, None] # this is done for numerical stability\n",
    "    exp = torch.exp(x)\n",
    "    return exp / torch.sum(exp, dim=1)[:, None]\n",
    "\n",
    "# x = torch.rand(100, 200).to(DEVICE)\n",
    "# triton.testing.assert_close(naive_softmax(x), torch.nn.functional.softmax(x, dim=1))"
   ]
  },
  {
   "cell_type": "code",
   "execution_count": null,
   "id": "9JmqnyDWw3i4",
   "metadata": {
    "id": "9JmqnyDWw3i4"
   },
   "outputs": [],
   "source": [
    "@triton.jit\n",
    "def fused_softmax_kernel(x_pointer, out_pointer, num_elements, blovk_size: tl.constexpr):\n",
    "    ...\n",
    "\n",
    "def fused_softmax_triton(x:Tensor, block_size:1024) -> Tensor:\n",
    "    ..."
   ]
  },
  {
   "cell_type": "code",
   "execution_count": 37,
   "id": "4304ab7d",
   "metadata": {},
   "outputs": [],
   "source": [
    "class FusedSoftmaxFunction(Function):\n",
    "    @staticmethod\n",
    "    def forward(ctx, x):\n",
    "        x = x - x.max(dim = -1)[0][:, None]\n",
    "        exp = torch.exp(x)\n",
    "        out = exp / torch.sum(exp, dim=1)[:, None]\n",
    "        # ctx.save_for_backward()\n",
    "        return out\n",
    "    \n",
    "    @staticmethod\n",
    "    def backward(ctx, grad_output):\n",
    "        ...\n",
    "\n"
   ]
  },
  {
   "cell_type": "code",
   "execution_count": 39,
   "id": "941a1e0d",
   "metadata": {},
   "outputs": [
    {
     "data": {
      "text/plain": [
       "True"
      ]
     },
     "execution_count": 39,
     "metadata": {},
     "output_type": "execute_result"
    }
   ],
   "source": [
    "x = torch.rand(8, 16)\n",
    "torch.allclose(naive_softmax(x), FusedSoftmaxFunction.apply(x))"
   ]
  },
  {
   "cell_type": "code",
   "execution_count": null,
   "id": "5b9a57a9",
   "metadata": {},
   "outputs": [],
   "source": []
  }
 ],
 "metadata": {
  "accelerator": "GPU",
  "colab": {
   "gpuType": "T4",
   "provenance": []
  },
  "kernelspec": {
   "display_name": "venv",
   "language": "python",
   "name": "python3"
  },
  "language_info": {
   "codemirror_mode": {
    "name": "ipython",
    "version": 3
   },
   "file_extension": ".py",
   "mimetype": "text/x-python",
   "name": "python",
   "nbconvert_exporter": "python",
   "pygments_lexer": "ipython3",
   "version": "3.10.17"
  }
 },
 "nbformat": 4,
 "nbformat_minor": 5
}
