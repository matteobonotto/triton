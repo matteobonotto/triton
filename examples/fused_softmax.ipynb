{
  "cells": [
    {
      "cell_type": "code",
      "execution_count": 1,
      "id": "YlFBDzu-LL6v",
      "metadata": {
        "id": "YlFBDzu-LL6v",
        "outputId": "6eb4b47c-0b63-48d1-ad25-7324162a7c75",
        "colab": {
          "base_uri": "https://localhost:8080/"
        }
      },
      "outputs": [
        {
          "output_type": "stream",
          "name": "stdout",
          "text": [
            "cuda\n"
          ]
        }
      ],
      "source": [
        "import torch\n",
        "from torch import Tensor\n",
        "from math import ceil\n",
        "from torch.autograd import Function\n",
        "\n",
        "DEVICE = torch.device('cuda') if torch.cuda.is_available() else torch.device('cpu')\n",
        "print(DEVICE)"
      ]
    },
    {
      "cell_type": "code",
      "execution_count": 2,
      "id": "649083dd",
      "metadata": {
        "id": "649083dd"
      },
      "outputs": [],
      "source": [
        "import triton\n",
        "import triton.language as tl"
      ]
    },
    {
      "cell_type": "code",
      "execution_count": 3,
      "id": "hRyr14v0wSwN",
      "metadata": {
        "id": "hRyr14v0wSwN"
      },
      "outputs": [],
      "source": [
        "def naive_softmax(x:Tensor) -> Tensor:\n",
        "    max = x.max()\n",
        "    x -= x.max(dim = -1)[0][:, None] # this is done for numerical stability\n",
        "    num = torch.exp(x)\n",
        "    den = torch.sum(num, dim=1)[:, None]\n",
        "    return num / den\n",
        "\n",
        "# x = torch.rand(100, 200).to(DEVICE)\n",
        "# triton.testing.assert_close(naive_softmax(x), torch.nn.functional.softmax(x, dim=1))"
      ]
    },
    {
      "cell_type": "code",
      "execution_count": 4,
      "id": "9JmqnyDWw3i4",
      "metadata": {
        "id": "9JmqnyDWw3i4"
      },
      "outputs": [],
      "source": [
        "@triton.jit\n",
        "def fused_softmax_kernel(x_pointer, y_pointer, x_stride, y_stride, n_rows, n_cols, block_size: tl.constexpr):\n",
        "    # get the program id: each program of the grid handles one (or more) rows of the tensor\n",
        "    pid = tl.program_id(axis=0)\n",
        "\n",
        "    # strided execution: can run the program in a strided way (e.g. for row 0, 8, 16, ...)\n",
        "    row_step = tl.num_programs(axis=0) # n. of programs running on given axis\n",
        "\n",
        "    # loop through the rows executed by program with this pid\n",
        "    for row_idx in tl.range(pid, n_rows, row_step):\n",
        "        x_row_pointer = x_pointer + row_idx * x_stride\n",
        "\n",
        "        col_offset = tl.arange(0, block_size)\n",
        "        x_col_pointer = x_row_pointer + col_offset\n",
        "\n",
        "        # Create a mask to guard memory operations against out-of-bounds accesses.\n",
        "        mask = col_offset < n_cols\n",
        "\n",
        "        # compute the softmax (with shift for numerical stab.)\n",
        "        row = tl.load(x_col_pointer, mask, other=-float('inf'))\n",
        "\n",
        "        row_minus_max = row - tl.max(row, axis=0)\n",
        "        num = tl.exp(row_minus_max)\n",
        "        den = tl.sum(num, axis=0)\n",
        "        y = num / den\n",
        "\n",
        "        y_row_pointer = y_pointer + row_idx * y_stride\n",
        "        y_col_pointer = y_row_pointer + col_offset\n",
        "        tl.store(y_col_pointer, y, mask)\n",
        "\n",
        "\n",
        "def fused_softmax_triton(x:Tensor, block_size:int=1024) -> Tensor:\n",
        "    assert x.is_cuda\n",
        "\n",
        "    n_rows, n_cols = x.shape\n",
        "    y = torch.empty_like(x)\n",
        "    grid = n_rows,\n",
        "    BLOCK_SIZE = triton.next_power_of_2(n_cols)  # Used to tile the row\n",
        "\n",
        "    fused_softmax_kernel[grid](x, y, x.stride(0), y.stride(0), n_rows, n_cols, BLOCK_SIZE)\n",
        "\n",
        "    return y\n",
        "\n",
        "\n"
      ]
    },
    {
      "cell_type": "code",
      "execution_count": 5,
      "id": "941a1e0d",
      "metadata": {
        "id": "941a1e0d"
      },
      "outputs": [],
      "source": [
        "x = torch.rand(8, 16).to(DEVICE)\n",
        "assert torch.allclose(naive_softmax(x), fused_softmax_triton(x))\n",
        "\n"
      ]
    },
    {
      "cell_type": "code",
      "source": [
        "@triton.testing.perf_report(\n",
        "    triton.testing.Benchmark(\n",
        "        x_names=['N'],  # argument names to use as an x-axis for the plot\n",
        "        x_vals=[128 * i for i in range(2, 100)],  # different possible values for `x_name`\n",
        "        line_arg='provider',  # argument name whose value corresponds to a different line in the plot\n",
        "        line_vals=['triton', 'torch', 'naive_softmax'],  # possible values for `line_arg``\n",
        "        line_names=[\"Triton\", \"Torch\", \"Naive Softmax\"],  # label name for the lines\n",
        "        styles=[('blue', '-'), ('green', '-'), ('red', '-')],  # line styles\n",
        "        ylabel=\"GB/s\",  # label name for the y-axis\n",
        "        plot_name=\"softmax-performance\",  # name for the plot. Used also as a file name for saving the plot.\n",
        "        args={'M': 4096},  # values for function arguments not in `x_names` and `y_name`\n",
        "    ))\n",
        "def benchmark(M, N, provider):\n",
        "    x = torch.randn(M, N, device=DEVICE, dtype=torch.float32)\n",
        "    stream = getattr(torch, DEVICE.type).Stream()\n",
        "    getattr(torch, DEVICE.type).set_stream(stream)\n",
        "    if provider == 'torch':\n",
        "        ms = triton.testing.do_bench(lambda: torch.softmax(x, axis=-1))\n",
        "    if provider == 'triton':\n",
        "        ms = triton.testing.do_bench(lambda: fused_softmax_triton(x))\n",
        "    if provider == 'naive_softmax':\n",
        "        ms = triton.testing.do_bench(lambda: naive_softmax(x))\n",
        "    gbps = lambda ms: 2 * x.numel() * x.element_size() * 1e-9 / (ms * 1e-3)\n",
        "    return gbps(ms)\n",
        "\n",
        "\n",
        "benchmark.run(show_plots=True, print_data=True)"
      ],
      "metadata": {
        "id": "-NfWDsVPUoCK",
        "outputId": "9ada501a-2a15-41fc-d293-e967f0785766",
        "colab": {
          "base_uri": "https://localhost:8080/",
          "height": 1000
        }
      },
      "id": "-NfWDsVPUoCK",
      "execution_count": 6,
      "outputs": [
        {
          "output_type": "display_data",
          "data": {
            "text/plain": [
              "<Figure size 640x480 with 1 Axes>"
            ],
            "image/png": "[encoded data removed]"
          },
          "metadata": {}
        },
        {
          "output_type": "stream",
          "name": "stdout",
          "text": [
            "softmax-performance:\n",
            "          N      Triton       Torch  Naive Softmax\n",
            "0     256.0  151.980123  205.490514      40.853169\n",
            "1     384.0  226.857512  218.978525      47.838907\n",
            "2     512.0  220.938893  217.514575      49.142157\n",
            "3     640.0  225.161262  215.992813      50.020996\n",
            "4     768.0  225.520422  213.928680      50.652093\n",
            "5     896.0  226.857004  212.147934      51.098348\n",
            "6    1024.0  227.260291  212.789449      51.628142\n",
            "7    1152.0  227.920769  218.205495      51.850982\n",
            "8    1280.0  228.001137  218.683343      52.156157\n",
            "9    1408.0  228.074304  216.898847      52.310863\n",
            "10   1536.0  228.673505  215.738704      52.518491\n",
            "11   1664.0  228.243074  214.505242      52.688767\n",
            "12   1792.0  228.429241  215.666179      52.751406\n",
            "13   1920.0  228.390875  213.019784      52.955124\n",
            "14   2048.0  228.298355  215.220412      53.123225\n",
            "15   2176.0  227.672494  227.257940      53.139178\n",
            "16   2304.0  228.697633  233.448524      53.161717\n",
            "17   2432.0  228.307958  236.712890      53.294922\n",
            "18   2560.0  228.128315  238.841732      53.370160\n",
            "19   2688.0  228.157404  241.217910      52.863735\n",
            "20   2816.0  228.005940  241.629175      53.126259\n",
            "21   2944.0  227.703971  242.035336      53.307710\n",
            "22   3072.0  227.959565  242.655491      53.474249\n",
            "23   3200.0  227.749174  241.956672      53.595712\n",
            "24   3328.0  227.954804  242.457421      53.652612\n",
            "25   3456.0  228.009317  242.629079      53.371861\n",
            "26   3584.0  227.782708  242.373266      53.752977\n",
            "27   3712.0  227.666207  242.680985      53.785315\n",
            "28   3840.0  227.779416  242.496569      53.696864\n",
            "29   3968.0  228.064251  242.345599      53.942113\n",
            "30   4096.0  227.583499  242.390966      54.010224\n",
            "31   4224.0  229.225788  242.439031      53.871321\n",
            "32   4352.0  229.825299  242.649409      53.867201\n",
            "33   4480.0  229.969531  244.021426      53.987465\n",
            "34   4608.0  230.050757  243.307014      54.036840\n",
            "35   4736.0  229.860455  242.843715      54.065349\n",
            "36   4864.0  230.211863  243.507194      54.077182\n",
            "37   4992.0  229.674259  243.194892      54.045291\n",
            "38   5120.0  230.183841  243.444948      54.119444\n",
            "39   5248.0  199.057377  210.966041      53.769093\n",
            "40   5376.0  230.251992  243.380115      53.954377\n",
            "41   5504.0  229.949957  243.319998      54.111000\n",
            "42   5632.0  229.816123  243.505211      54.123643\n",
            "43   5760.0  229.868608  242.714173      54.170321\n",
            "44   5888.0  229.872150  243.760935      54.201469\n",
            "45   6016.0  229.633204  243.581243      54.188782\n",
            "46   6144.0  229.761159  243.242816      54.235802\n",
            "47   6272.0  229.771065  243.156524      54.241072\n",
            "48   6400.0  229.794992  242.800802      54.264162\n",
            "49   6528.0  229.534039  242.646814      54.271267\n",
            "50   6656.0  229.717215  242.793837      54.308467\n",
            "51   6784.0  229.532991  242.661884      54.305695\n",
            "52   6912.0  229.778691  243.100727      54.112891\n",
            "53   7040.0  229.454449  242.007979      54.325927\n",
            "54   7168.0  229.629654  240.490346      54.372084\n",
            "55   7296.0  228.869032  241.641009      54.319214\n",
            "56   7424.0  198.538615  202.097880      54.308710\n",
            "57   7552.0  228.498401  235.941440      54.384765\n",
            "58   7680.0  229.458809  236.710532      54.439319\n",
            "59   7808.0  229.683192  241.607705      54.193966\n",
            "60   7936.0  229.103583  237.172549      54.265558\n",
            "61   8064.0  228.897801  238.370965      54.384887\n",
            "62   8192.0  229.376938  239.484359      54.843342\n",
            "63   8320.0  230.795092  237.936763      54.703564\n",
            "64   8448.0  231.692485  237.295901      54.754216\n",
            "65   8576.0  232.220117  237.769314      54.731146\n",
            "66   8704.0  231.545745  235.751450      54.782514\n",
            "67   8832.0  231.375840  232.139439      54.844236\n",
            "68   8960.0  231.672239  231.931860      54.845949\n",
            "69   9088.0  201.092943  201.272666      48.713195\n",
            "70   9216.0  231.573273  212.913889      54.909979\n",
            "71   9344.0  231.303204  187.394643      54.963917\n",
            "72   9472.0  231.316400  192.018584      54.945939\n",
            "73   9600.0  231.359923  192.224219      55.061318\n",
            "74   9728.0  231.747542  195.352346      55.030697\n",
            "75   9856.0  231.592049  195.461522      54.990329\n",
            "76   9984.0  231.483206  197.136963      55.111499\n",
            "77  10112.0  231.803938  199.188043      55.042769\n",
            "78  10240.0  231.626049  203.348253      55.080680\n",
            "79  10368.0  232.103155  201.586657      54.755291\n",
            "80  10496.0  200.887889  195.972509      48.990229\n",
            "81  10624.0  231.925825  206.043553      54.852773\n",
            "82  10752.0  232.149508  205.760896      54.995625\n",
            "83  10880.0  231.791087  208.494649      54.937239\n",
            "84  11008.0  232.073489  210.830176      55.112052\n",
            "85  11136.0  232.365985  213.290694      55.021648\n",
            "86  11264.0  232.107736  216.151807      55.099981\n",
            "87  11392.0  232.511034  214.884118      55.036023\n",
            "88  11520.0  232.061141  217.260176      55.101423\n",
            "89  11648.0  232.425110  218.001219      55.114979\n",
            "90  11776.0  201.767210  196.687529      55.075413\n",
            "91  11904.0  231.727032  222.198809      55.139427\n",
            "92  12032.0  234.188829  225.554124      55.136635\n",
            "93  12160.0  232.281351  226.955376      55.091762\n",
            "94  12288.0  232.529667  205.399709      55.175736\n",
            "95  12416.0  232.270543  212.224038      55.029059\n",
            "96  12544.0  232.184283  204.737031      55.209861\n",
            "97  12672.0  232.793117  207.708109      55.067870\n"
          ]
        }
      ]
    }
  ],
  "metadata": {
    "accelerator": "GPU",
    "colab": {
      "gpuType": "T4",
      "provenance": []
    },
    "kernelspec": {
      "display_name": "venv",
      "language": "python",
      "name": "python3"
    },
    "language_info": {
      "codemirror_mode": {
        "name": "ipython",
        "version": 3
      },
      "file_extension": ".py",
      "mimetype": "text/x-python",
      "name": "python",
      "nbconvert_exporter": "python",
      "pygments_lexer": "ipython3",
      "version": "3.10.17"
    }
  },
  "nbformat": 4,
  "nbformat_minor": 5
}