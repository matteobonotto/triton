{
 "cells": [
  {
   "cell_type": "code",
   "execution_count": 4,
   "id": "96b50ed1",
   "metadata": {},
   "outputs": [],
   "source": [
    "import torch\n",
    "from torch import nn, Tensor\n",
    "from torch.autograd import Function"
   ]
  },
  {
   "cell_type": "code",
   "execution_count": 9,
   "id": "0149bd2d",
   "metadata": {},
   "outputs": [],
   "source": [
    "class LlamaMLP(nn.Module):\n",
    "    def __init__(self, hidden_size:int = 64, intermediate_size:int = 256):\n",
    "        super().__init__()\n",
    "        self.A = nn.Linear(hidden_size, intermediate_size, bias=False)\n",
    "        self.B = nn.Linear(hidden_size, intermediate_size, bias=False)\n",
    "        self.C = nn.Linear(intermediate_size, hidden_size, bias=False)\n",
    "        self.act = nn.GELU()\n",
    "\n",
    "    def forward(self, x:Tensor) -> Tensor:\n",
    "        return self.C(self.act(self.B(x))*self.A(x))"
   ]
  },
  {
   "cell_type": "code",
   "execution_count": 10,
   "id": "304f8d88",
   "metadata": {},
   "outputs": [],
   "source": [
    "class LlamaMLPFunction(Function):\n",
    "    @staticmethod\n",
    "    def forward(ctx, x, W_A, W_B, W_C):\n",
    "        a = x @ W_A.T\n",
    "        b = x @ W_B.T\n",
    "        c = nn.functional.gelu(b)\n",
    "        d = a * c\n",
    "        e = d @ W_C.T\n",
    "        ctx.save_for_backward(x, W_A, W_B, W_C, a, b, c, d, e)\n",
    "        return e\n",
    "    \n",
    "    @staticmethod\n",
    "    def backward(ctx, *grad_outputs):\n",
    "        x, W_A, W_B, W_C, a, b, c, d, e = ctx.saved_tensors\n",
    "\n",
    "class LlamaMLPCustom(nn.Module):\n",
    "    def __init__(self, hidden_size:int = 64, intermediate_size:int = 256):\n",
    "        super().__init__()\n",
    "        self.A = nn.Linear(hidden_size, intermediate_size, bias=False)\n",
    "        self.B = nn.Linear(hidden_size, intermediate_size, bias=False)\n",
    "        self.C = nn.Linear(intermediate_size, hidden_size, bias=False)\n",
    "        self.act = nn.GELU()\n",
    "    def forward(self, x:Tensor) -> Tensor:\n",
    "        return LlamaMLPFunction.apply(x, self.A.weight, self.B.weight, self.C.weight)\n"
   ]
  },
  {
   "cell_type": "code",
   "execution_count": 12,
   "id": "e16f3389",
   "metadata": {},
   "outputs": [
    {
     "data": {
      "text/plain": [
       "True"
      ]
     },
     "execution_count": 12,
     "metadata": {},
     "output_type": "execute_result"
    }
   ],
   "source": [
    "mlp = LlamaMLP()\n",
    "mlp_custom = LlamaMLPCustom()\n",
    "\n",
    "mlp_custom.A.weight.data.copy_(mlp.A.weight)\n",
    "mlp_custom.B.weight.data.copy_(mlp.B.weight)\n",
    "mlp_custom.C.weight.data.copy_(mlp.C.weight)\n",
    "\n",
    "x = torch.rand(128, 64)\n",
    "torch.allclose(mlp(x), mlp_custom(x))"
   ]
  }
 ],
 "metadata": {
  "kernelspec": {
   "display_name": "venv",
   "language": "python",
   "name": "python3"
  },
  "language_info": {
   "codemirror_mode": {
    "name": "ipython",
    "version": 3
   },
   "file_extension": ".py",
   "mimetype": "text/x-python",
   "name": "python",
   "nbconvert_exporter": "python",
   "pygments_lexer": "ipython3",
   "version": "3.10.17"
  }
 },
 "nbformat": 4,
 "nbformat_minor": 5
}
