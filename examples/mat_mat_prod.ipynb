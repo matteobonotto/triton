{
 "cells": [
  {
   "cell_type": "code",
   "execution_count": null,
   "id": "YlFBDzu-LL6v",
   "metadata": {
    "executionInfo": {
     "elapsed": 2054,
     "status": "ok",
     "timestamp": 1756042558515,
     "user": {
      "displayName": "Matteo Bonotto",
      "userId": "01035356913648804886"
     },
     "user_tz": -120
    },
    "id": "YlFBDzu-LL6v"
   },
   "outputs": [],
   "source": [
    "import torch\n",
    "from torch import Tensor\n",
    "import triton\n",
    "import triton.language as tl\n",
    "\n",
    "assert torch.cuda.is_available()\n",
    "DEVICE = torch.device('cuda')"
   ]
  }
 ],
 "metadata": {
  "accelerator": "GPU",
  "colab": {
   "gpuType": "T4",
   "provenance": []
  },
  "kernelspec": {
   "display_name": "venv",
   "language": "python",
   "name": "python3"
  },
  "language_info": {
   "codemirror_mode": {
    "name": "ipython",
    "version": 3
   },
   "file_extension": ".py",
   "mimetype": "text/x-python",
   "name": "python",
   "nbconvert_exporter": "python",
   "pygments_lexer": "ipython3",
   "version": "3.10.17"
  }
 },
 "nbformat": 4,
 "nbformat_minor": 5
}
